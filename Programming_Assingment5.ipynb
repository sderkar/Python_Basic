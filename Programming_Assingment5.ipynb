{
 "cells": [
  {
   "cell_type": "markdown",
   "metadata": {},
   "source": [
    "1.Write a Python Program to Find LCM?"
   ]
  },
  {
   "cell_type": "code",
   "execution_count": 1,
   "metadata": {},
   "outputs": [
    {
     "name": "stdout",
     "output_type": "stream",
     "text": [
      "10\n",
      "20\n",
      "the LCM of 10 and 20 is: 20\n"
     ]
    }
   ],
   "source": [
    "x = int(input())\n",
    "y = int(input())\n",
    "maxnum = max(x,y)\n",
    "while(True):\n",
    "    if (maxnum % x == 0 and maxnum % y == 0 ):\n",
    "        break\n",
    "    maxnum += 1\n",
    "print(f\"the LCM of {x} and {y} is: {maxnum}\")"
   ]
  },
  {
   "cell_type": "markdown",
   "metadata": {},
   "source": [
    "2.Write a Python Program to Find HCF?"
   ]
  },
  {
   "cell_type": "code",
   "execution_count": 2,
   "metadata": {},
   "outputs": [
    {
     "name": "stdout",
     "output_type": "stream",
     "text": [
      "30\n",
      "25\n",
      "the hcf of 30 and 25 is:5\n"
     ]
    }
   ],
   "source": [
    "a = int(input())\n",
    "b = int(input())\n",
    "\n",
    "if b > a:\n",
    "    min = a\n",
    "else:\n",
    "    min = b\n",
    "for i in range(1,min+1):\n",
    "    if a % i == 0 and b % i == 0:\n",
    "        hcf = i\n",
    "print(f\"the hcf of {a} and {b} is:{hcf}\")        \n",
    "    "
   ]
  },
  {
   "cell_type": "markdown",
   "metadata": {},
   "source": [
    "3.Write a Python Program to Convert Decimal to Binary, Octal and Hexadecimal?"
   ]
  },
  {
   "cell_type": "code",
   "execution_count": 3,
   "metadata": {},
   "outputs": [
    {
     "name": "stdout",
     "output_type": "stream",
     "text": [
      "10\n",
      "the binary number for 10 is 0b1010\n",
      "the octal number for 10 is 0o12\n",
      "the Hexadecimal number for 10 is 0xa\n"
     ]
    }
   ],
   "source": [
    "x = int(input())\n",
    "print(f\"the binary number for {x} is {bin(x)}\")\n",
    "print(f\"the octal number for {x} is {oct(x)}\")\n",
    "print(f\"the Hexadecimal number for {x} is {hex(x)}\")"
   ]
  },
  {
   "cell_type": "markdown",
   "metadata": {},
   "source": [
    "4.Write a Python Program To Find ASCII value of a character?"
   ]
  },
  {
   "cell_type": "code",
   "execution_count": 4,
   "metadata": {},
   "outputs": [
    {
     "name": "stdout",
     "output_type": "stream",
     "text": [
      "Enter a Charecter : 2\n",
      "Ascii value of 2 is 50\n"
     ]
    }
   ],
   "source": [
    "str = input(\"Enter a Charecter : \")\n",
    "print(f\"Ascii value of {str} is\" ,ord(str))"
   ]
  },
  {
   "cell_type": "markdown",
   "metadata": {},
   "source": [
    "5.Write a Python Program to Make a Simple Calculator with 4 basic mathematical operations?"
   ]
  },
  {
   "cell_type": "code",
   "execution_count": 5,
   "metadata": {},
   "outputs": [
    {
     "name": "stdout",
     "output_type": "stream",
     "text": [
      "select operation\n",
      "1.add\n",
      "2.multiply\n",
      "3.subtract\n",
      "4.divide\n",
      "Enter coice 1/2/3/4: 1\n",
      "10\n",
      "15\n",
      "10.0 + 15.0 = 25.0\n",
      "Let's do next calculation? (yes/no): no\n"
     ]
    }
   ],
   "source": [
    "def add(a,b):\n",
    "    return(a+b)\n",
    "def multiply(a,b):\n",
    "    return(a*b)\n",
    "def subtract(a,b):\n",
    "    return(a-b)\n",
    "def divide(a,b):\n",
    "    return(a/b)\n",
    "print(\"select operation\")\n",
    "print(\"1.add\")\n",
    "print(\"2.multiply\")\n",
    "print(\"3.subtract\")\n",
    "print(\"4.divide\")\n",
    "\n",
    "while True:\n",
    "    choice = input(\"Enter coice 1/2/3/4: \")\n",
    "    if choice in (\"1\",\"2\",\"3\",\"4\"):\n",
    "        num1 = float(input())\n",
    "        num2 = float(input())\n",
    "        if choice == \"1\":\n",
    "            print(num1,\"+\", num2, \"=\", add(num1, num2))\n",
    "        elif choice == '2':\n",
    "            print(num1, \"-\", num2, \"=\", subtract(num1, num2))\n",
    "\n",
    "        elif choice == '3':\n",
    "            print(num1, \"*\", num2, \"=\", multiply(num1, num2))\n",
    "\n",
    "        elif choice == '4':\n",
    "            print(num1, \"/\", num2, \"=\", divide(num1, num2))    \n",
    "        next_calculation = input(\"Let's do next calculation? (yes/no): \")\n",
    "        if next_calculation == \"no\":\n",
    "            break\n",
    "    \n",
    "    else:\n",
    "        print(\"Invalid Input\")"
   ]
  },
  {
   "cell_type": "markdown",
   "metadata": {},
   "source": []
  },
  {
   "cell_type": "code",
   "execution_count": null,
   "metadata": {},
   "outputs": [],
   "source": []
  }
 ],
 "metadata": {
  "kernelspec": {
   "display_name": "Python 3",
   "language": "python",
   "name": "python3"
  },
  "language_info": {
   "codemirror_mode": {
    "name": "ipython",
    "version": 3
   },
   "file_extension": ".py",
   "mimetype": "text/x-python",
   "name": "python",
   "nbconvert_exporter": "python",
   "pygments_lexer": "ipython3",
   "version": "3.8.5"
  }
 },
 "nbformat": 4,
 "nbformat_minor": 4
}
