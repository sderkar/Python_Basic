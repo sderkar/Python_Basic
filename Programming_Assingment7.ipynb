{
 "cells": [
  {
   "cell_type": "markdown",
   "metadata": {},
   "source": [
    "1.Write a Python Program to find sum of array?"
   ]
  },
  {
   "cell_type": "code",
   "execution_count": 2,
   "metadata": {},
   "outputs": [
    {
     "name": "stdout",
     "output_type": "stream",
     "text": [
      "Sum :  24\n"
     ]
    }
   ],
   "source": [
    "x =0\n",
    "arr = [1,2,3,4,5,9]\n",
    "for i in range(0,len(arr)):\n",
    "    x += arr[i]\n",
    "print(\"Sum : \",x)"
   ]
  },
  {
   "cell_type": "code",
   "execution_count": null,
   "metadata": {},
   "outputs": [],
   "source": []
  },
  {
   "cell_type": "markdown",
   "metadata": {},
   "source": [
    "2.Write a Python Program to find largest element in an array?"
   ]
  },
  {
   "cell_type": "code",
   "execution_count": 3,
   "metadata": {},
   "outputs": [
    {
     "name": "stdout",
     "output_type": "stream",
     "text": [
      "the largest element:88\n"
     ]
    }
   ],
   "source": [
    "arr = [1,2,3,4,5,9,88]\n",
    "x =arr[0]\n",
    "for i in range(0,len(arr)):\n",
    "    if arr[i] > x:\n",
    "        x = arr[i]\n",
    "print(f\"the largest element:{x}\")"
   ]
  },
  {
   "cell_type": "markdown",
   "metadata": {},
   "source": [
    "3.Write a Python Program for array rotation?"
   ]
  },
  {
   "cell_type": "code",
   "execution_count": 4,
   "metadata": {},
   "outputs": [
    {
     "name": "stdout",
     "output_type": "stream",
     "text": [
      "3 4 5 6 7 1 2 "
     ]
    }
   ],
   "source": [
    "def leftRotate(arr, d, n):\n",
    "    for i in range(gcd(d,n)):\n",
    "\n",
    "        \n",
    "        temp = arr[i]\n",
    "        j = i\n",
    "        while 1:\n",
    "            k = j + d\n",
    "            if k >= n:\n",
    "                k = k - n\n",
    "            if k == i:\n",
    "                break\n",
    "            arr[j] = arr[k]\n",
    "            j = k\n",
    "        arr[j] = temp\n",
    "def printArray(arr, size):\n",
    "    for i in range(size):\n",
    "        print (\"%d\" % arr[i], end=\" \")\n",
    "def gcd(a, b):\n",
    "    if b == 0:\n",
    "        return a;\n",
    "    else:\n",
    "        return gcd(b, a%b)\n",
    "arr = [1, 2, 3, 4, 5, 6, 7]\n",
    "leftRotate(arr, 2, 7)\n",
    "printArray(arr, 7)\n",
    "\n",
    "\n"
   ]
  },
  {
   "cell_type": "markdown",
   "metadata": {},
   "source": [
    "4.Write a Python Program to Split the array and add the first part to the end?"
   ]
  },
  {
   "cell_type": "code",
   "execution_count": 5,
   "metadata": {},
   "outputs": [
    {
     "name": "stdout",
     "output_type": "stream",
     "text": [
      "Enter the lenth of your list : 5\n",
      "12\n",
      "32\n",
      "25\n",
      "36\n",
      "65\n",
      "The List   [12, 32, 25, 36, 65]\n",
      "Enter the number of elements to split  : 2\n",
      "The split list is : [12, 32]\n",
      "The List after split and add : [25, 36, 65, 12, 32]\n"
     ]
    }
   ],
   "source": [
    "l = int(input(\"Enter the lenth of your list : \"))\n",
    "arr = []\n",
    "\n",
    "for i in range(l):\n",
    "    arr.append(int(input()))\n",
    "print(\"The List  \",arr)\n",
    "\n",
    "noro = int(input(\"Enter the number of elements to split  : \"))\n",
    "if noro > l:\n",
    "    print(\"can not split as elements to split is larger then list lengh\")\n",
    "else:\n",
    "    print(\"The split list is :\",arr[:noro])\n",
    "    arr[:] = arr[noro:l] + arr[:noro]\n",
    "    print(\"The List after split and add :\", arr)"
   ]
  },
  {
   "cell_type": "markdown",
   "metadata": {},
   "source": [
    "5.Write a Python Program to check if given array is Monotonic?"
   ]
  },
  {
   "cell_type": "code",
   "execution_count": 8,
   "metadata": {},
   "outputs": [
    {
     "name": "stdout",
     "output_type": "stream",
     "text": [
      "Enter the lenth of your list : 5\n",
      "21\n",
      "15\n",
      "10\n",
      "30\n",
      "35\n",
      "The List is  [21, 15, 10, 30, 35]\n",
      "Not Monotonic\n"
     ]
    }
   ],
   "source": [
    "l = int(input(\"Enter the lenth of your list : \"))\n",
    "arr = []\n",
    "\n",
    "for i in range(l):\n",
    "    arr.append(int(input()))\n",
    "print(\"The List is \",arr)\n",
    "\n",
    "if all((arr[i] <= arr[i+1] for i in range(l-1)) or (arr[i] >= lst[i+1] for i in range(l-1))):\n",
    "    print(\"Monotonic\")\n",
    "else:\n",
    "    print(\"Not Monotonic\")"
   ]
  },
  {
   "cell_type": "code",
   "execution_count": null,
   "metadata": {},
   "outputs": [],
   "source": []
  },
  {
   "cell_type": "code",
   "execution_count": null,
   "metadata": {},
   "outputs": [],
   "source": []
  }
 ],
 "metadata": {
  "kernelspec": {
   "display_name": "Python 3",
   "language": "python",
   "name": "python3"
  },
  "language_info": {
   "codemirror_mode": {
    "name": "ipython",
    "version": 3
   },
   "file_extension": ".py",
   "mimetype": "text/x-python",
   "name": "python",
   "nbconvert_exporter": "python",
   "pygments_lexer": "ipython3",
   "version": "3.8.5"
  }
 },
 "nbformat": 4,
 "nbformat_minor": 4
}
